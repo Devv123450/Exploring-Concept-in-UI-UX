{
  "nbformat": 4,
  "nbformat_minor": 0,
  "metadata": {
    "colab": {
      "provenance": []
    },
    "kernelspec": {
      "name": "python3",
      "display_name": "Python 3"
    },
    "language_info": {
      "name": "python"
    }
  },
  "cells": [
    {
      "cell_type": "code",
      "execution_count": null,
      "metadata": {
        "id": "_-eRFeU8Q9sv"
      },
      "outputs": [],
      "source": []
    },
    {
      "cell_type": "markdown",
      "source": [
        "# Exploring Concept in UI/UX\n"
      ],
      "metadata": {
        "id": "eViy4W6VRIAM"
      }
    },
    {
      "cell_type": "markdown",
      "source": [
        "1. What is the significance of user-centered design in UI/UX ?\n",
        "   -"
      ],
      "metadata": {
        "id": "tZrAGAE3RaSJ"
      }
    },
    {
      "cell_type": "markdown",
      "source": [],
      "metadata": {
        "id": "ik_OVizURAsf"
      }
    }
  ]
}